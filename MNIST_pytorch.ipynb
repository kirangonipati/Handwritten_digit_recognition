{
 "cells": [
  {
   "cell_type": "code",
   "execution_count": 1,
   "id": "239f8a88",
   "metadata": {},
   "outputs": [],
   "source": [
    "#pip install torch"
   ]
  },
  {
   "cell_type": "code",
   "execution_count": 2,
   "id": "d2e6e28d",
   "metadata": {},
   "outputs": [],
   "source": [
    "#pip install torchvision numpy matplotlib"
   ]
  },
  {
   "cell_type": "code",
   "execution_count": null,
   "id": "c942485d",
   "metadata": {},
   "outputs": [],
   "source": []
  },
  {
   "cell_type": "code",
   "execution_count": 3,
   "id": "2a8a1e06-d13d-4e9d-a931-bb6ad01344b0",
   "metadata": {
    "scrolled": true
   },
   "outputs": [
    {
     "name": "stderr",
     "output_type": "stream",
     "text": [
      "/home/wes-237b/.local/lib/python3.6/site-packages/torchvision/io/image.py:11: UserWarning: Failed to load image Python extension: \n",
      "  warn(f\"Failed to load image Python extension: {e}\")\n"
     ]
    }
   ],
   "source": [
    "import torch\n",
    "import torch.nn as nn\n",
    "from torch.optim import SGD\n",
    "from torch.optim import lr_scheduler\n",
    "import torch.nn.functional as F\n",
    "from torch.utils.data import Dataset, DataLoader\n",
    "import torchvision\n",
    "import numpy as np\n",
    "import matplotlib.pyplot as plt\n",
    "import time\n",
    "import os\n",
    "import copy"
   ]
  },
  {
   "cell_type": "markdown",
   "id": "629b2515-d284-4c9b-a43e-2786cd6b22cf",
   "metadata": {},
   "source": [
    "Download from www.di.ens.fr/~lelarge/MNIST.tar.gz"
   ]
  },
  {
   "cell_type": "code",
   "execution_count": 4,
   "id": "b63431a9",
   "metadata": {},
   "outputs": [
    {
     "name": "stdout",
     "output_type": "stream",
     "text": [
      "processed  raw\r\n"
     ]
    }
   ],
   "source": [
    "!ls MNIST"
   ]
  },
  {
   "cell_type": "code",
   "execution_count": 5,
   "id": "bfd94ce7-287f-40bf-b99f-72f72661b9c8",
   "metadata": {},
   "outputs": [],
   "source": [
    "x, y = torch.load('/home/wes-237b/MNIST/MNIST/processed/training.pt')"
   ]
  },
  {
   "cell_type": "code",
   "execution_count": 6,
   "id": "1aea334d",
   "metadata": {},
   "outputs": [
    {
     "data": {
      "text/plain": [
       "torch.Size([60000, 28, 28])"
      ]
     },
     "execution_count": 6,
     "metadata": {},
     "output_type": "execute_result"
    }
   ],
   "source": [
    "x.shape"
   ]
  },
  {
   "cell_type": "code",
   "execution_count": 7,
   "id": "26654796-6b6a-44fe-9ab5-f5eb06acb827",
   "metadata": {},
   "outputs": [
    {
     "data": {
      "text/plain": [
       "torch.Size([60000])"
      ]
     },
     "execution_count": 7,
     "metadata": {},
     "output_type": "execute_result"
    }
   ],
   "source": [
    "y.shape"
   ]
  },
  {
   "cell_type": "code",
   "execution_count": 8,
   "id": "95155308",
   "metadata": {},
   "outputs": [
    {
     "name": "stdout",
     "output_type": "stream",
     "text": [
      "torch.Size([28, 28])\n",
      "tensor(4)\n"
     ]
    },
    {
     "data": {
      "image/png": "[encoded data removed]",
      "text/plain": [
       "<matplotlib.figure.Figure at 0x7f69d18b38>"
      ]
     },
     "metadata": {
      "needs_background": "light"
     },
     "output_type": "display_data"
    }
   ],
   "source": [
    "plt.imshow(x[2])\n",
    "print(x[2].shape)\n",
    "print(y[2])"
   ]
  },
  {
   "cell_type": "markdown",
   "id": "3d90f1f7-ce0e-4b99-9bfd-29ab5661939e",
   "metadata": {},
   "source": [
    "# PyTorch Dataset Object"
   ]
  },
  {
   "cell_type": "code",
   "execution_count": 9,
   "id": "c19ee408-e640-4c15-b827-ca37c7416914",
   "metadata": {},
   "outputs": [],
   "source": [
    "class CTDataset(Dataset):\n",
    "    def __init__(self, filepath):\n",
    "        self.x, self.y = torch.load(filepath)\n",
    "        self.x = self.x / 255.\n",
    "        self.y = F.one_hot(self.y, num_classes=10).to(float)\n",
    "    def __len__(self): \n",
    "        return self.x.shape[0]\n",
    "    def __getitem__(self, ix): \n",
    "        return self.x[ix], self.y[ix]"
   ]
  },
  {
   "cell_type": "code",
   "execution_count": 10,
   "id": "258bf813-c9fd-4ed5-9854-048bbe7ff36e",
   "metadata": {},
   "outputs": [],
   "source": [
    "train_ds = CTDataset('/home/wes-237b/MNIST/MNIST/processed/training.pt')\n",
    "test_ds = CTDataset('/home/wes-237b/MNIST/MNIST/processed/test.pt')"
   ]
  },
  {
   "cell_type": "code",
   "execution_count": 11,
   "id": "00e38533-6d54-4600-ad86-933068cb7b8f",
   "metadata": {},
   "outputs": [
    {
     "data": {
      "text/plain": [
       "60000"
      ]
     },
     "execution_count": 11,
     "metadata": {},
     "output_type": "execute_result"
    }
   ],
   "source": [
    "len(train_ds)"
   ]
  },
  {
   "cell_type": "code",
   "execution_count": 12,
   "id": "3076d8f2",
   "metadata": {},
   "outputs": [
    {
     "data": {
      "text/plain": [
       "tensor([0., 0., 0., 0., 0., 1., 0., 0., 0., 0.], dtype=torch.float64)"
      ]
     },
     "execution_count": 12,
     "metadata": {},
     "output_type": "execute_result"
    }
   ],
   "source": [
    "train_ds[0][1]"
   ]
  },
  {
   "cell_type": "code",
   "execution_count": 13,
   "id": "38ea3cbb-8c36-46bb-a728-b2decc46664d",
   "metadata": {},
   "outputs": [],
   "source": [
    "xs, ys = train_ds[0:4]"
   ]
  },
  {
   "cell_type": "code",
   "execution_count": 14,
   "id": "53e4b3f4-d365-4083-92d7-395bc002e9e8",
   "metadata": {},
   "outputs": [
    {
     "data": {
      "text/plain": [
       "torch.Size([4, 10])"
      ]
     },
     "execution_count": 14,
     "metadata": {},
     "output_type": "execute_result"
    }
   ],
   "source": [
    "ys.shape"
   ]
  },
  {
   "cell_type": "markdown",
   "id": "b40c3e08-5b2a-48ee-9d94-5e20d2e7a7c1",
   "metadata": {},
   "source": [
    "# PyTorch DataLoader Object"
   ]
  },
  {
   "cell_type": "markdown",
   "id": "068c3082-2e68-4f58-a26e-8eee48305ca7",
   "metadata": {},
   "source": [
    "We can then put the `Dataset` objects inside a `DataLoader` class. This is useful because we can specify a `batch_size`. Each iteration through the dataloader will yield a tensor where the first dimension is equal to the `batch_size`."
   ]
  },
  {
   "cell_type": "code",
   "execution_count": 15,
   "id": "944f65ed-33f8-408a-93ef-5b282153062a",
   "metadata": {},
   "outputs": [],
   "source": [
    "train_dl = DataLoader(train_ds, batch_size=5)"
   ]
  },
  {
   "cell_type": "code",
   "execution_count": 16,
   "id": "497df1d7-ff2d-4650-b2bc-e8bc77d06b81",
   "metadata": {},
   "outputs": [
    {
     "name": "stdout",
     "output_type": "stream",
     "text": [
      "torch.Size([5, 28, 28])\n",
      "torch.Size([5, 10])\n"
     ]
    }
   ],
   "source": [
    "for x, y in train_dl:\n",
    "    print(x.shape)\n",
    "    print(y.shape)\n",
    "    break"
   ]
  },
  {
   "cell_type": "markdown",
   "id": "fd016b02-d744-4754-836d-5b23802e6974",
   "metadata": {},
   "source": [
    "Since the `batch_size` here is 5, and there are 60000 images, the length of the `DataLoader` object should be 12000."
   ]
  },
  {
   "cell_type": "code",
   "execution_count": 17,
   "id": "ca520dd3-60a1-47a9-8367-fbcb640338b5",
   "metadata": {},
   "outputs": [
    {
     "data": {
      "text/plain": [
       "12000"
      ]
     },
     "execution_count": 17,
     "metadata": {},
     "output_type": "execute_result"
    }
   ],
   "source": [
    "len(train_dl)"
   ]
  },
  {
   "cell_type": "markdown",
   "id": "394b5ec1-9cb4-48c9-a7a3-bd7eeec8522d",
   "metadata": {},
   "source": [
    "# Cross Entropy Loss"
   ]
  },
  {
   "cell_type": "code",
   "execution_count": 18,
   "id": "f0927548-c6ff-40ce-ae62-90dfe6fc5a6b",
   "metadata": {},
   "outputs": [],
   "source": [
    "L = nn.CrossEntropyLoss()"
   ]
  },
  {
   "cell_type": "markdown",
   "id": "06fd6fe4-8ade-4abb-b891-c489098dd169",
   "metadata": {},
   "source": [
    "# The Network"
   ]
  },
  {
   "cell_type": "code",
   "execution_count": 19,
   "id": "adb0a442-3930-44ad-8ced-cfec73e9515e",
   "metadata": {},
   "outputs": [],
   "source": [
    "class MyNeuralNet(nn.Module):\n",
    "    def __init__(self):\n",
    "        super().__init__()\n",
    "        self.Matrix1 = nn.Linear(28**2,100)\n",
    "        self.Matrix2 = nn.Linear(100,50)\n",
    "        self.Matrix3 = nn.Linear(50,10)\n",
    "        self.R = nn.ReLU()\n",
    "    def forward(self,x):\n",
    "        x = x.view(-1,28**2)\n",
    "        x = self.R(self.Matrix1(x))\n",
    "        x = self.R(self.Matrix2(x))\n",
    "        x = self.Matrix3(x)\n",
    "        return x.squeeze()"
   ]
  },
  {
   "cell_type": "code",
   "execution_count": 20,
   "id": "aaa8781b-8c61-4e86-95d9-d2621773636b",
   "metadata": {},
   "outputs": [],
   "source": [
    "f = MyNeuralNet()"
   ]
  },
  {
   "cell_type": "markdown",
   "id": "c47ba1c8-b5b8-4260-8c77-d7a631a8ac3b",
   "metadata": {},
   "source": [
    "# Training"
   ]
  },
  {
   "cell_type": "code",
   "execution_count": 21,
   "id": "d7ade31e-fc82-43b6-8b6a-19672a1ae868",
   "metadata": {},
   "outputs": [],
   "source": [
    "def train_model(dl, f, n_epochs=20):\n",
    "    # Optimization\n",
    "    opt = SGD(f.parameters(), lr=0.01)\n",
    "    L = nn.CrossEntropyLoss()\n",
    "\n",
    "    # Train model\n",
    "    losses = []\n",
    "    epochs = []\n",
    "    for epoch in range(n_epochs):\n",
    "        print(f'Epoch {epoch}')\n",
    "        N = len(dl)\n",
    "        for i, (x, y) in enumerate(dl):\n",
    "            # Update the weights of the network\n",
    "            opt.zero_grad() \n",
    "            loss_value = L(f(x), y) \n",
    "            loss_value.backward() \n",
    "            opt.step() \n",
    "            # Store training data\n",
    "            epochs.append(epoch+i/N)\n",
    "            losses.append(loss_value.item())\n",
    "    return np.array(epochs), np.array(losses)"
   ]
  },
  {
   "cell_type": "code",
   "execution_count": 22,
   "id": "24f7826c-ac83-4133-8208-af6130c940e7",
   "metadata": {},
   "outputs": [
    {
     "name": "stdout",
     "output_type": "stream",
     "text": [
      "Epoch 0\n",
      "Epoch 1\n",
      "Epoch 2\n",
      "Epoch 3\n",
      "Epoch 4\n",
      "Epoch 5\n",
      "Epoch 6\n",
      "Epoch 7\n",
      "Epoch 8\n",
      "Epoch 9\n",
      "Epoch 10\n",
      "Epoch 11\n",
      "Epoch 12\n",
      "Epoch 13\n",
      "Epoch 14\n",
      "Epoch 15\n",
      "Epoch 16\n",
      "Epoch 17\n",
      "Epoch 18\n",
      "Epoch 19\n"
     ]
    }
   ],
   "source": [
    "epoch_data, loss_data = train_model(train_dl, f)"
   ]
  },
  {
   "cell_type": "code",
   "execution_count": 24,
   "id": "4298b4c3-92fc-4428-9d15-fa99b4d241b5",
   "metadata": {},
   "outputs": [],
   "source": [
    "epoch_data_avgd = epoch_data.reshape(20,-1).mean(axis=1)\n",
    "loss_data_avgd = loss_data.reshape(20,-1).mean(axis=1)"
   ]
  },
  {
   "cell_type": "code",
   "execution_count": 25,
   "id": "e031368f-65db-43c8-84b2-9e9a09055c74",
   "metadata": {},
   "outputs": [
    {
     "data": {
      "text/plain": [
       "Text(0.5,1,'Cross Entropy (avgd per epoch)')"
      ]
     },
     "execution_count": 25,
     "metadata": {},
     "output_type": "execute_result"
    },
    {
     "data": {
      "image/png": "[encoded data removed]",
      "text/plain": [
       "<matplotlib.figure.Figure at 0x7f69c58470>"
      ]
     },
     "metadata": {
      "needs_background": "light"
     },
     "output_type": "display_data"
    }
   ],
   "source": [
    "plt.plot(epoch_data_avgd, loss_data_avgd, 'o--')\n",
    "plt.xlabel('Epoch Number')\n",
    "plt.ylabel('Cross Entropy')\n",
    "plt.title('Cross Entropy (avgd per epoch)')"
   ]
  },
  {
   "cell_type": "markdown",
   "id": "0946e80e-3c31-454e-9ebd-ac83ede56951",
   "metadata": {},
   "source": [
    "Look at a sample image label $y$:"
   ]
  },
  {
   "cell_type": "code",
   "execution_count": 26,
   "id": "f9289847-1fa9-4a0b-a891-c4903784bb96",
   "metadata": {},
   "outputs": [
    {
     "data": {
      "text/plain": [
       "tensor([0., 0., 0., 0., 0., 1., 0., 0., 0., 0.], dtype=torch.float64)"
      ]
     },
     "execution_count": 26,
     "metadata": {},
     "output_type": "execute_result"
    }
   ],
   "source": [
    "y_sample = train_ds[0][1]\n",
    "y_sample"
   ]
  },
  {
   "cell_type": "markdown",
   "id": "e637d4cc-618c-4eb3-8d46-edcb6a3b0c8f",
   "metadata": {},
   "source": [
    "Look at sample prediction $\\hat{y}$"
   ]
  },
  {
   "cell_type": "code",
   "execution_count": 27,
   "id": "fde0703f",
   "metadata": {},
   "outputs": [
    {
     "data": {
      "text/plain": [
       "torch.Tensor"
      ]
     },
     "execution_count": 27,
     "metadata": {},
     "output_type": "execute_result"
    }
   ],
   "source": [
    "type(train_ds[3][0])"
   ]
  },
  {
   "cell_type": "code",
   "execution_count": 28,
   "id": "e51d6717",
   "metadata": {},
   "outputs": [
    {
     "data": {
      "text/plain": [
       "torch.Size([28, 28])"
      ]
     },
     "execution_count": 28,
     "metadata": {},
     "output_type": "execute_result"
    }
   ],
   "source": [
    "train_ds[3][0].shape"
   ]
  },
  {
   "cell_type": "code",
   "execution_count": 29,
   "id": "33033897",
   "metadata": {},
   "outputs": [
    {
     "data": {
      "text/plain": [
       "torch.Size([10])"
      ]
     },
     "execution_count": 29,
     "metadata": {},
     "output_type": "execute_result"
    }
   ],
   "source": [
    "train_ds[3][1].shape"
   ]
  },
  {
   "cell_type": "code",
   "execution_count": 30,
   "id": "e1ce2f3c",
   "metadata": {},
   "outputs": [
    {
     "data": {
      "text/plain": [
       "tensor([0., 1., 0., 0., 0., 0., 0., 0., 0., 0.], dtype=torch.float64)"
      ]
     },
     "execution_count": 30,
     "metadata": {},
     "output_type": "execute_result"
    }
   ],
   "source": [
    "train_ds[3][1]"
   ]
  },
  {
   "cell_type": "code",
   "execution_count": 31,
   "id": "e628fbda",
   "metadata": {
    "scrolled": true
   },
   "outputs": [
    {
     "name": "stdout",
     "output_type": "stream",
     "text": [
      "tensor(5)\n",
      "tensor(0)\n",
      "tensor(4)\n",
      "tensor(1)\n",
      "tensor(9)\n",
      "tensor(2)\n",
      "tensor(1)\n",
      "tensor(3)\n",
      "tensor(1)\n",
      "tensor(4)\n",
      "tensor(3)\n",
      "tensor(5)\n",
      "tensor(3)\n",
      "tensor(6)\n",
      "tensor(1)\n",
      "tensor(7)\n",
      "tensor(2)\n",
      "tensor(8)\n",
      "tensor(6)\n",
      "tensor(9)\n",
      "tensor(4)\n",
      "tensor(0)\n",
      "tensor(9)\n",
      "tensor(1)\n",
      "tensor(1)\n",
      "tensor(2)\n",
      "tensor(4)\n",
      "tensor(3)\n"
     ]
    }
   ],
   "source": [
    "for i in range(28):\n",
    "    print(torch.argmax(f(train_ds[i][0])))"
   ]
  },
  {
   "cell_type": "code",
   "execution_count": 32,
   "id": "39b0ac71",
   "metadata": {},
   "outputs": [
    {
     "name": "stdout",
     "output_type": "stream",
     "text": [
      "0.jpg  1.jpg  2.jpg  3.jpg  4.jpg  5.jpg  6.jpg  7.jpg\t8.jpg  9.jpg\r\n"
     ]
    }
   ],
   "source": [
    "!ls /home/wes-237b/MNIST/data/h_test"
   ]
  },
  {
   "cell_type": "code",
   "execution_count": 33,
   "id": "e02f20b0",
   "metadata": {},
   "outputs": [],
   "source": [
    "import cv2\n",
    "import os\n",
    "#IMG_DIR = \"/home/wes-237b/MNIST/TestData\"\n",
    "#IMG_DIR = \"/home/wes-237b/MNIST/data/train/4\"\n",
    "IMG_DIR = \"/home/wes-237b/MNIST/data/h_test\""
   ]
  },
  {
   "cell_type": "code",
   "execution_count": 34,
   "id": "0d94a1a1",
   "metadata": {},
   "outputs": [],
   "source": [
    "\n",
    "def get_tensor_from_test_img(img):\n",
    "    img_arr = cv2.imread(img, cv2.IMREAD_GRAYSCALE)\n",
    "    img_arr = ~img_arr\n",
    "    \n",
    "    resized_img = cv2.resize(img_arr, (28, 28))\n",
    "    resized_img = resized_img.astype(np.float32)\n",
    "    resized_img_tensor = torch.from_numpy(resized_img)\n",
    "    #print(resized_img_tensor)\n",
    "    return resized_img_tensor\n",
    "\n",
    "def get_tensor_from_test_dir(IMG_DIR):\n",
    "    img_tensor_list = []\n",
    "    for img in os.listdir(IMG_DIR):\n",
    "        img_tensor_list.append(get_tensor_from_test_img(os.path.join(IMG_DIR, img)))\n",
    "    return img_tensor_list\n"
   ]
  },
  {
   "cell_type": "code",
   "execution_count": 35,
   "id": "6f5086b9",
   "metadata": {},
   "outputs": [],
   "source": [
    "img_tensors = get_tensor_from_test_dir(IMG_DIR)"
   ]
  },
  {
   "cell_type": "code",
   "execution_count": 38,
   "id": "36f10b7a",
   "metadata": {},
   "outputs": [
    {
     "data": {
      "text/plain": [
       "<matplotlib.image.AxesImage at 0x7f543b7518>"
      ]
     },
     "execution_count": 38,
     "metadata": {},
     "output_type": "execute_result"
    },
    {
     "data": {
      "image/png": "[encoded data removed]",
      "text/plain": [
       "<matplotlib.figure.Figure at 0x7f543f8c88>"
      ]
     },
     "metadata": {
      "needs_background": "light"
     },
     "output_type": "display_data"
    }
   ],
   "source": [
    "plt.imshow(img_tensors[0])"
   ]
  },
  {
   "cell_type": "code",
   "execution_count": 37,
   "id": "b90df902",
   "metadata": {},
   "outputs": [
    {
     "name": "stdout",
     "output_type": "stream",
     "text": [
      "tensor(5)\n"
     ]
    }
   ],
   "source": [
    "print(torch.argmax(f(img_tensors[0])))"
   ]
  },
  {
   "cell_type": "code",
   "execution_count": 41,
   "id": "812e2657",
   "metadata": {},
   "outputs": [
    {
     "name": "stdout",
     "output_type": "stream",
     "text": [
      "tensor(5)\n",
      "tensor(6)\n",
      "tensor(6)\n",
      "tensor(0)\n",
      "tensor(7)\n",
      "tensor(3)\n",
      "tensor(2)\n",
      "tensor(9)\n",
      "tensor(6)\n",
      "tensor(2)\n"
     ]
    }
   ],
   "source": [
    "for img_tensor in img_tensors:\n",
    "    print(torch.argmax(f(img_tensor)))"
   ]
  },
  {
   "cell_type": "code",
   "execution_count": 42,
   "id": "f35a5388-9b95-4def-a8e2-c66c4c0befe1",
   "metadata": {},
   "outputs": [],
   "source": [
    "xs, ys = train_ds[0:2000]\n",
    "yhats = f(xs).argmax(axis=1)"
   ]
  },
  {
   "cell_type": "code",
   "execution_count": 43,
   "id": "277a2229-26ae-4463-bf2c-5b26908c0f1e",
   "metadata": {},
   "outputs": [
    {
     "data": {
      "image/png": "[encoded data removed]",
      "text/plain": [
       "<matplotlib.figure.Figure at 0x7f543a3ac8>"
      ]
     },
     "metadata": {
      "needs_background": "light"
     },
     "output_type": "display_data"
    }
   ],
   "source": [
    "fig, ax = plt.subplots(10,4,figsize=(10,15))\n",
    "for i in range(40):\n",
    "    plt.subplot(10,4,i+1)\n",
    "    plt.imshow(xs[i])\n",
    "    plt.title(f'Predicted Digit: {yhats[i]}')\n",
    "fig.tight_layout()\n",
    "plt.show()"
   ]
  },
  {
   "cell_type": "code",
   "execution_count": 44,
   "id": "884e81c2",
   "metadata": {},
   "outputs": [],
   "source": [
    "torch.save(f.state_dict(), '/home/wes-237b/MNIST/Pytorch_MNIST_Model.pt')"
   ]
  },
  {
   "cell_type": "code",
   "execution_count": null,
   "id": "ef852b59",
   "metadata": {},
   "outputs": [],
   "source": []
  },
  {
   "cell_type": "markdown",
   "id": "f5df6125",
   "metadata": {},
   "source": [
    "# Retraining"
   ]
  },
  {
   "cell_type": "code",
   "execution_count": 46,
   "id": "b73ee978",
   "metadata": {},
   "outputs": [
    {
     "data": {
      "text/plain": [
       "<All keys matched successfully>"
      ]
     },
     "execution_count": 46,
     "metadata": {},
     "output_type": "execute_result"
    }
   ],
   "source": [
    "model_conv = MyNeuralNet()\n",
    "model_conv.load_state_dict(torch.load('/home/wes-237b/MNIST/Pytorch_MNIST_Model.pt'))"
   ]
  },
  {
   "cell_type": "code",
   "execution_count": 48,
   "id": "7a87dcac",
   "metadata": {},
   "outputs": [
    {
     "data": {
      "text/plain": [
       "Linear(in_features=50, out_features=10, bias=True)"
      ]
     },
     "execution_count": 48,
     "metadata": {},
     "output_type": "execute_result"
    }
   ],
   "source": [
    "model_conv.Matrix3"
   ]
  },
  {
   "cell_type": "code",
   "execution_count": 51,
   "id": "3781526d",
   "metadata": {},
   "outputs": [
    {
     "data": {
      "text/plain": [
       "MyNeuralNet(\n",
       "  (Matrix1): Linear(in_features=784, out_features=100, bias=True)\n",
       "  (Matrix2): Linear(in_features=100, out_features=50, bias=True)\n",
       "  (Matrix3): Linear(in_features=50, out_features=10, bias=True)\n",
       "  (R): ReLU()\n",
       ")"
      ]
     },
     "execution_count": 51,
     "metadata": {},
     "output_type": "execute_result"
    }
   ],
   "source": [
    "model_conv"
   ]
  },
  {
   "cell_type": "code",
   "execution_count": 49,
   "id": "633155c2",
   "metadata": {},
   "outputs": [],
   "source": [
    "device = torch.device(\"cuda:0\" if torch.cuda.is_available() else \"cpu\")"
   ]
  },
  {
   "cell_type": "code",
   "execution_count": 50,
   "id": "7bde1717",
   "metadata": {},
   "outputs": [
    {
     "data": {
      "text/plain": [
       "device(type='cpu')"
      ]
     },
     "execution_count": 50,
     "metadata": {},
     "output_type": "execute_result"
    }
   ],
   "source": [
    "device"
   ]
  },
  {
   "cell_type": "code",
   "execution_count": null,
   "id": "5ac7c5d9",
   "metadata": {},
   "outputs": [],
   "source": [
    "#Retraining"
   ]
  },
  {
   "cell_type": "code",
   "execution_count": 346,
   "id": "6b60fe1c",
   "metadata": {},
   "outputs": [
    {
     "name": "stdout",
     "output_type": "stream",
     "text": [
      "['0', '1', '2', '3', '4', '5', '6', '7', '8', '9']\n"
     ]
    },
    {
     "data": {
      "image/png": "[encoded data removed]",
      "text/plain": [
       "<matplotlib.figure.Figure at 0x7f49eb8588>"
      ]
     },
     "metadata": {
      "needs_background": "light"
     },
     "output_type": "display_data"
    }
   ],
   "source": [
    "\n",
    "\n",
    "mean = np.array([0.5])#, 0.5, 0.5])\n",
    "std = np.array([0.25])#, 0.25, 0.25])\n",
    "\n",
    "data_transforms = {\n",
    "    'train': transforms.Compose([\n",
    "        transforms.Grayscale(1),\n",
    "        transforms.Resize((28, 28)),\n",
    "        transforms.RandomInvert(1),\n",
    "        #transforms.RandomResizedCrop(28),\n",
    "        transforms.RandomHorizontalFlip(),\n",
    "        transforms.ToTensor(),\n",
    "        transforms.Normalize(mean, std)\n",
    "    ]),\n",
    "    'val': transforms.Compose([\n",
    "        transforms.Grayscale(1),        \n",
    "        transforms.Resize((28, 28)),\n",
    "        transforms.RandomInvert(1),\n",
    "        #transforms.CenterCrop(256),\n",
    "        transforms.ToTensor(),\n",
    "        transforms.Normalize(mean, std)\n",
    "    ]),\n",
    "}\n",
    "\n",
    "data_dir = '/home/wes-237b/MNIST/data'\n",
    "image_datasets = {x: datasets.ImageFolder(os.path.join(data_dir, x),\n",
    "                                          data_transforms[x])\n",
    "                  for x in ['train', 'val']}\n",
    "dataloaders = {x: torch.utils.data.DataLoader(image_datasets[x], batch_size=4,\n",
    "                                             shuffle=True, num_workers=0)\n",
    "              for x in ['train', 'val']}\n",
    "dataset_sizes = {x: len(image_datasets[x]) for x in ['train', 'val']}\n",
    "class_names = image_datasets['train'].classes\n",
    "\n",
    "device = torch.device(\"cuda:0\" if torch.cuda.is_available() else \"cpu\")\n",
    "print(class_names)\n",
    "\n",
    "\n",
    "def imshow(inp, title):\n",
    "    \"\"\"Imshow for Tensor.\"\"\"\n",
    "    inp = inp.numpy().transpose((1, 2, 0))\n",
    "    inp = std * inp + mean\n",
    "    inp = np.clip(inp, 0, 1)\n",
    "    plt.imshow(inp)\n",
    "    plt.title(title)\n",
    "    plt.show()\n",
    "\n",
    "\n",
    "# Get a batch of training data\n",
    "inputs, classes = next(iter(dataloaders['train']))\n",
    "\n",
    "\n",
    "# Make a grid from batch\n",
    "out = torchvision.utils.make_grid(inputs)\n",
    "\n",
    "imshow(out, title=[class_names[x] for x in classes])\n",
    "\n",
    "\n",
    "def train_model(model, criterion, optimizer, scheduler, num_epochs=20):\n",
    "    since = time.time()\n",
    "\n",
    "    best_model_wts = copy.deepcopy(model.state_dict())\n",
    "    best_acc = 0.0\n",
    "\n",
    "    for epoch in range(num_epochs):\n",
    "        print('Epoch {}/{}'.format(epoch, num_epochs - 1))\n",
    "        print('-' * 10)\n",
    "\n",
    "        # Each epoch has a training and validation phase\n",
    "        for phase in ['train', 'val']:\n",
    "            if phase == 'train':\n",
    "                model.train()  # Set model to training mode\n",
    "            else:\n",
    "                model.eval()   # Set model to evaluate mode\n",
    "\n",
    "            running_loss = 0.0\n",
    "            running_corrects = 0\n",
    "\n",
    "            # Iterate over data.\n",
    "            for inputs, labels in dataloaders[phase]:\n",
    "                inputs = inputs.to(device)\n",
    "                labels = labels.to(device)\n",
    "\n",
    "                # forward\n",
    "                # track history if only in train\n",
    "                with torch.set_grad_enabled(phase == 'train'):\n",
    "                    #print(inputs.shape)\n",
    "                    #print(torch.mean(inputs, 1).shape)\n",
    "                    #print(torch.squeeze(torch.mean(inputs, 1)).shape)\n",
    "                    \n",
    "                    outputs = model(inputs)\n",
    "                    #outputs = model(torch.squeeze(torch.mean(inputs, 1)))\n",
    "                    #print(outputs)\n",
    "                    _, preds = torch.max(outputs, 1)\n",
    "                    #preds = torch.max(outputs)\n",
    "                    #print(preds)\n",
    "                    #print(f'outputs : {outputs}')\n",
    "                    #print(f'labels : {labels}')\n",
    "                    loss = criterion(outputs, labels)\n",
    "                    #print(1)\n",
    "\n",
    "                    # backward + optimize only if in training phase\n",
    "                    if phase == 'train':\n",
    "                        #print(2)\n",
    "                        optimizer.zero_grad()\n",
    "                        #print(3)\n",
    "                        loss.backward()\n",
    "                        #print(4)\n",
    "                        optimizer.step()\n",
    "                    \n",
    "\n",
    "                # statistics\n",
    "                running_loss += loss.item() * inputs.size(0)\n",
    "                running_corrects += torch.sum(preds == labels.data)\n",
    "\n",
    "            if phase == 'train':\n",
    "                scheduler.step()\n",
    "\n",
    "            epoch_loss = running_loss / dataset_sizes[phase]\n",
    "            epoch_acc = running_corrects.double() / dataset_sizes[phase]\n",
    "\n",
    "            print('{} Loss: {:.4f} Acc: {:.4f}'.format(\n",
    "                phase, epoch_loss, epoch_acc))\n",
    "\n",
    "            # deep copy the model\n",
    "            if phase == 'val' and epoch_acc > best_acc:\n",
    "                best_acc = epoch_acc\n",
    "                best_model_wts = copy.deepcopy(model.state_dict())\n",
    "\n",
    "        print()\n",
    "\n",
    "    time_elapsed = time.time() - since\n",
    "    print('Training complete in {:.0f}m {:.0f}s'.format(\n",
    "        time_elapsed // 60, time_elapsed % 60))\n",
    "    print('Best val Acc: {:4f}'.format(best_acc))\n",
    "\n",
    "    # load best model weights\n",
    "    model.load_state_dict(best_model_wts)\n",
    "    return model\n"
   ]
  },
  {
   "cell_type": "code",
   "execution_count": 347,
   "id": "e0577c4a",
   "metadata": {},
   "outputs": [
    {
     "name": "stdout",
     "output_type": "stream",
     "text": [
      "Epoch 0/19\n",
      "----------\n",
      "train Loss: 3.3506 Acc: 0.0690\n",
      "val Loss: 2.7078 Acc: 0.0667\n",
      "\n",
      "Epoch 1/19\n",
      "----------\n",
      "train Loss: 2.5370 Acc: 0.1034\n",
      "val Loss: 2.3879 Acc: 0.0333\n",
      "\n",
      "Epoch 2/19\n",
      "----------\n",
      "train Loss: 2.4296 Acc: 0.1207\n",
      "val Loss: 2.3799 Acc: 0.1000\n",
      "\n",
      "Epoch 3/19\n",
      "----------\n",
      "train Loss: 2.4098 Acc: 0.0862\n",
      "val Loss: 2.3747 Acc: 0.0333\n",
      "\n",
      "Epoch 4/19\n",
      "----------\n",
      "train Loss: 2.4378 Acc: 0.0948\n",
      "val Loss: 2.3762 Acc: 0.0667\n",
      "\n",
      "Epoch 5/19\n",
      "----------\n",
      "train Loss: 2.4363 Acc: 0.0690\n",
      "val Loss: 2.3982 Acc: 0.1000\n",
      "\n",
      "Epoch 6/19\n",
      "----------\n",
      "train Loss: 2.4894 Acc: 0.0431\n",
      "val Loss: 2.3852 Acc: 0.1000\n",
      "\n",
      "Epoch 7/19\n",
      "----------\n",
      "train Loss: 2.3258 Acc: 0.1379\n",
      "val Loss: 2.3679 Acc: 0.1333\n",
      "\n",
      "Epoch 8/19\n",
      "----------\n",
      "train Loss: 2.3014 Acc: 0.1379\n",
      "val Loss: 2.3632 Acc: 0.0667\n",
      "\n",
      "Epoch 9/19\n",
      "----------\n",
      "train Loss: 2.3198 Acc: 0.1207\n",
      "val Loss: 2.3630 Acc: 0.1333\n",
      "\n",
      "Epoch 10/19\n",
      "----------\n",
      "train Loss: 2.3132 Acc: 0.1293\n",
      "val Loss: 2.3623 Acc: 0.1333\n",
      "\n",
      "Epoch 11/19\n",
      "----------\n",
      "train Loss: 2.3019 Acc: 0.1379\n",
      "val Loss: 2.3629 Acc: 0.1333\n",
      "\n",
      "Epoch 12/19\n",
      "----------\n",
      "train Loss: 2.3073 Acc: 0.1638\n",
      "val Loss: 2.3634 Acc: 0.1000\n",
      "\n",
      "Epoch 13/19\n",
      "----------\n",
      "train Loss: 2.3065 Acc: 0.1638\n",
      "val Loss: 2.3625 Acc: 0.0667\n",
      "\n",
      "Epoch 14/19\n",
      "----------\n",
      "train Loss: 2.3097 Acc: 0.1466\n",
      "val Loss: 2.3625 Acc: 0.1000\n",
      "\n",
      "Epoch 15/19\n",
      "----------\n",
      "train Loss: 2.2913 Acc: 0.1552\n",
      "val Loss: 2.3623 Acc: 0.1000\n",
      "\n",
      "Epoch 16/19\n",
      "----------\n",
      "train Loss: 2.3033 Acc: 0.1552\n",
      "val Loss: 2.3623 Acc: 0.1000\n",
      "\n",
      "Epoch 17/19\n",
      "----------\n",
      "train Loss: 2.2901 Acc: 0.1466\n",
      "val Loss: 2.3622 Acc: 0.1000\n",
      "\n",
      "Epoch 18/19\n",
      "----------\n",
      "train Loss: 2.2855 Acc: 0.1724\n",
      "val Loss: 2.3621 Acc: 0.1000\n",
      "\n",
      "Epoch 19/19\n",
      "----------\n",
      "train Loss: 2.2924 Acc: 0.1379\n",
      "val Loss: 2.3621 Acc: 0.1000\n",
      "\n",
      "Training complete in 12m 7s\n",
      "Best val Acc: 0.133333\n"
     ]
    }
   ],
   "source": [
    "num_ftrs = model_conv.Matrix3.in_features\n",
    "# Here the size of each output sample is set to 2.\n",
    "# Alternatively, it can be generalized to nn.Linear(num_ftrs, len(class_names)).\n",
    "model_conv.Matrix3 = nn.Linear(num_ftrs, 10)\n",
    "\n",
    "model_conv = model_conv.to(device)\n",
    "\n",
    "criterion = nn.CrossEntropyLoss()\n",
    "\n",
    "# Observe that all parameters are being optimized\n",
    "optimizer = SGD(model_conv.parameters(), lr=0.001)\n",
    "\n",
    "# StepLR Decays the learning rate of each parameter group by gamma every step_size epochs\n",
    "# Decay LR by a factor of 0.1 every 7 epochs\n",
    "# Learning rate scheduling should be applied after optimizer’s update\n",
    "# e.g., you should write your code this way:\n",
    "# for epoch in range(100):\n",
    "#     train(...)\n",
    "#     validate(...)\n",
    "#     scheduler.step()\n",
    "\n",
    "step_lr_scheduler = lr_scheduler.StepLR(optimizer, step_size=7, gamma=0.1)\n",
    "\n",
    "model_conv = train_model(model_conv, criterion, optimizer, step_lr_scheduler, num_epochs=20)"
   ]
  },
  {
   "cell_type": "code",
   "execution_count": 330,
   "id": "85e3dd28",
   "metadata": {},
   "outputs": [
    {
     "data": {
      "text/plain": [
       "MyNeuralNet(\n",
       "  (Matrix1): Linear(in_features=784, out_features=100, bias=True)\n",
       "  (Matrix2): Linear(in_features=100, out_features=50, bias=True)\n",
       "  (Matrix3): Linear(in_features=50, out_features=10, bias=True)\n",
       "  (R): ReLU()\n",
       "  (fc): Linear(in_features=50, out_features=10, bias=True)\n",
       ")"
      ]
     },
     "execution_count": 330,
     "metadata": {},
     "output_type": "execute_result"
    }
   ],
   "source": [
    "model_conv"
   ]
  },
  {
   "cell_type": "code",
   "execution_count": 349,
   "id": "fb170b83",
   "metadata": {},
   "outputs": [
    {
     "name": "stdout",
     "output_type": "stream",
     "text": [
      "tensor(8)\n",
      "tensor(8)\n",
      "tensor(6)\n",
      "tensor(6)\n",
      "tensor(8)\n",
      "tensor(6)\n",
      "tensor(8)\n",
      "tensor(6)\n",
      "tensor(6)\n",
      "tensor(6)\n",
      "tensor(6)\n",
      "tensor(6)\n"
     ]
    }
   ],
   "source": [
    "import cv2\n",
    "import os\n",
    "#IMG_DIR = \"/home/wes-237b/MNIST/TestData\"\n",
    "IMG_DIR = \"/home/wes-237b/MNIST/data/train/5\"\n",
    "\n",
    "\n",
    "def get_tensor_from_test_img(img):\n",
    "    img_arr = cv2.imread(img, cv2.IMREAD_GRAYSCALE)\n",
    "    img_arr = ~img_arr\n",
    "    \n",
    "    resized_img = cv2.resize(img_arr, (28, 28))\n",
    "    resized_img = resized_img.astype(np.float32)\n",
    "    resized_img_tensor = torch.from_numpy(resized_img)\n",
    "    #print(resized_img_tensor)\n",
    "    return resized_img_tensor\n",
    "\n",
    "def get_tensor_from_test_dir(IMG_DIR):\n",
    "    img_tensor_list = []\n",
    "    for img in os.listdir(IMG_DIR):\n",
    "        img_tensor_list.append(get_tensor_from_test_img(os.path.join(IMG_DIR, img)))\n",
    "    return img_tensor_list\n",
    "\n",
    "img_tensors = get_tensor_from_test_dir(IMG_DIR)\n",
    "\n",
    "for img_tensor in img_tensors:\n",
    "    print(torch.argmax(model_conv(img_tensor)))\n"
   ]
  },
  {
   "cell_type": "code",
   "execution_count": null,
   "id": "4d33ae78",
   "metadata": {},
   "outputs": [],
   "source": []
  }
 ],
 "metadata": {
  "kernelspec": {
   "display_name": "Python 3",
   "language": "python",
   "name": "python3"
  },
  "language_info": {
   "codemirror_mode": {
    "name": "ipython",
    "version": 3
   },
   "file_extension": ".py",
   "mimetype": "text/x-python",
   "name": "python",
   "nbconvert_exporter": "python",
   "pygments_lexer": "ipython3",
   "version": "3.6.9"
  }
 },
 "nbformat": 4,
 "nbformat_minor": 5
}
