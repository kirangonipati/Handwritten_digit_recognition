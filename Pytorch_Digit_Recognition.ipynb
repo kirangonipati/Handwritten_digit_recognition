{
 "cells": [
  {
   "cell_type": "markdown",
   "id": "7f20b627",
   "metadata": {},
   "source": [
    "# Handwritten digit recognition using Pytorch"
   ]
  },
  {
   "cell_type": "code",
   "execution_count": 1,
   "id": "239f8a88",
   "metadata": {},
   "outputs": [],
   "source": [
    "#pip install torch"
   ]
  },
  {
   "cell_type": "code",
   "execution_count": 2,
   "id": "d2e6e28d",
   "metadata": {},
   "outputs": [],
   "source": [
    "#pip install torchvision numpy matplotlib"
   ]
  },
  {
   "cell_type": "code",
   "execution_count": 40,
   "id": "c942485d",
   "metadata": {},
   "outputs": [],
   "source": [
    "import torch\n",
    "import torch.nn as nn\n",
    "from torch.optim import SGD\n",
    "from torch.optim import lr_scheduler\n",
    "import torch.nn.functional as F\n",
    "from torch.utils.data import Dataset, DataLoader\n",
    "import torchvision\n",
    "import numpy as np\n",
    "import matplotlib.pyplot as plt\n",
    "import time\n",
    "import os\n",
    "import copy"
   ]
  },
  {
   "cell_type": "markdown",
   "id": "629b2515-d284-4c9b-a43e-2786cd6b22cf",
   "metadata": {},
   "source": [
    "Download from www.di.ens.fr/~lelarge/MNIST.tar.gz"
   ]
  },
  {
   "cell_type": "code",
   "execution_count": 41,
   "id": "b63431a9",
   "metadata": {},
   "outputs": [
    {
     "name": "stdout",
     "output_type": "stream",
     "text": [
      "processed  raw\r\n"
     ]
    }
   ],
   "source": [
    "!ls MNIST"
   ]
  },
  {
   "cell_type": "code",
   "execution_count": 45,
   "id": "bfd94ce7-287f-40bf-b99f-72f72661b9c8",
   "metadata": {},
   "outputs": [],
   "source": [
    "x, y = torch.load('/home/wes-237b/MNIST/MNIST/processed/training.pt')"
   ]
  },
  {
   "cell_type": "code",
   "execution_count": 46,
   "id": "1aea334d",
   "metadata": {},
   "outputs": [
    {
     "data": {
      "text/plain": [
       "torch.Size([60000, 28, 28])"
      ]
     },
     "execution_count": 46,
     "metadata": {},
     "output_type": "execute_result"
    }
   ],
   "source": [
    "x.shape"
   ]
  },
  {
   "cell_type": "code",
   "execution_count": 47,
   "id": "26654796-6b6a-44fe-9ab5-f5eb06acb827",
   "metadata": {},
   "outputs": [
    {
     "data": {
      "text/plain": [
       "torch.Size([60000])"
      ]
     },
     "execution_count": 47,
     "metadata": {},
     "output_type": "execute_result"
    }
   ],
   "source": [
    "y.shape"
   ]
  },
  {
   "cell_type": "code",
   "execution_count": 48,
   "id": "95155308",
   "metadata": {},
   "outputs": [
    {
     "name": "stdout",
     "output_type": "stream",
     "text": [
      "torch.Size([28, 28])\n",
      "tensor(4)\n"
     ]
    },
    {
     "data": {
      "image/png": "[encoded data removed]",
      "text/plain": [
       "<matplotlib.figure.Figure at 0x7f48ca7a58>"
      ]
     },
     "metadata": {
      "needs_background": "light"
     },
     "output_type": "display_data"
    }
   ],
   "source": [
    "plt.imshow(x[2])\n",
    "print(x[2].shape)\n",
    "print(y[2])"
   ]
  },
  {
   "cell_type": "markdown",
   "id": "3d90f1f7-ce0e-4b99-9bfd-29ab5661939e",
   "metadata": {},
   "source": [
    "# PyTorch Dataset Object"
   ]
  },
  {
   "cell_type": "code",
   "execution_count": 49,
   "id": "c19ee408-e640-4c15-b827-ca37c7416914",
   "metadata": {},
   "outputs": [],
   "source": [
    "class MnistDataset(Dataset):\n",
    "    def __init__(self, filepath):\n",
    "        self.x, self.y = torch.load(filepath)\n",
    "        self.x = self.x / 255.\n",
    "        self.y = F.one_hot(self.y, num_classes=10).to(float)\n",
    "        \n",
    "    def __len__(self): \n",
    "        return self.x.shape[0]\n",
    "    \n",
    "    def __getitem__(self, ix): \n",
    "        return self.x[ix], self.y[ix]"
   ]
  },
  {
   "cell_type": "code",
   "execution_count": 50,
   "id": "258bf813-c9fd-4ed5-9854-048bbe7ff36e",
   "metadata": {},
   "outputs": [],
   "source": [
    "train_ds = MnistDataset('/home/wes-237b/MNIST/MNIST/processed/training.pt')\n",
    "test_ds = MnistDataset('/home/wes-237b/MNIST/MNIST/processed/test.pt')"
   ]
  },
  {
   "cell_type": "code",
   "execution_count": 51,
   "id": "00e38533-6d54-4600-ad86-933068cb7b8f",
   "metadata": {},
   "outputs": [
    {
     "data": {
      "text/plain": [
       "60000"
      ]
     },
     "execution_count": 51,
     "metadata": {},
     "output_type": "execute_result"
    }
   ],
   "source": [
    "len(train_ds)"
   ]
  },
  {
   "cell_type": "code",
   "execution_count": 52,
   "id": "3076d8f2",
   "metadata": {},
   "outputs": [
    {
     "data": {
      "text/plain": [
       "tensor([0., 0., 0., 0., 0., 1., 0., 0., 0., 0.], dtype=torch.float64)"
      ]
     },
     "execution_count": 52,
     "metadata": {},
     "output_type": "execute_result"
    }
   ],
   "source": [
    "train_ds[0][1]"
   ]
  },
  {
   "cell_type": "code",
   "execution_count": 53,
   "id": "38ea3cbb-8c36-46bb-a728-b2decc46664d",
   "metadata": {},
   "outputs": [],
   "source": [
    "xs, ys = train_ds[0:4]"
   ]
  },
  {
   "cell_type": "code",
   "execution_count": 54,
   "id": "53e4b3f4-d365-4083-92d7-395bc002e9e8",
   "metadata": {},
   "outputs": [
    {
     "data": {
      "text/plain": [
       "torch.Size([4, 10])"
      ]
     },
     "execution_count": 54,
     "metadata": {},
     "output_type": "execute_result"
    }
   ],
   "source": [
    "ys.shape"
   ]
  },
  {
   "cell_type": "markdown",
   "id": "b40c3e08-5b2a-48ee-9d94-5e20d2e7a7c1",
   "metadata": {},
   "source": [
    "# PyTorch DataLoader Object"
   ]
  },
  {
   "cell_type": "markdown",
   "id": "068c3082-2e68-4f58-a26e-8eee48305ca7",
   "metadata": {},
   "source": [
    "We can then put the `Dataset` objects inside a `DataLoader` class. This is useful because we can specify a `batch_size`. Each iteration through the dataloader will yield a tensor where the first dimension is equal to the `batch_size`."
   ]
  },
  {
   "cell_type": "code",
   "execution_count": 13,
   "id": "944f65ed-33f8-408a-93ef-5b282153062a",
   "metadata": {},
   "outputs": [],
   "source": [
    "train_dl = DataLoader(train_ds, batch_size=5)"
   ]
  },
  {
   "cell_type": "code",
   "execution_count": 14,
   "id": "497df1d7-ff2d-4650-b2bc-e8bc77d06b81",
   "metadata": {},
   "outputs": [
    {
     "name": "stdout",
     "output_type": "stream",
     "text": [
      "torch.Size([5, 28, 28])\n",
      "torch.Size([5, 10])\n"
     ]
    }
   ],
   "source": [
    "for x, y in train_dl:\n",
    "    print(x.shape)\n",
    "    print(y.shape)\n",
    "    break"
   ]
  },
  {
   "cell_type": "markdown",
   "id": "fd016b02-d744-4754-836d-5b23802e6974",
   "metadata": {},
   "source": [
    "Since the `batch_size` here is 5, and there are 60000 images, the length of the `DataLoader` object should be 12000."
   ]
  },
  {
   "cell_type": "code",
   "execution_count": 15,
   "id": "ca520dd3-60a1-47a9-8367-fbcb640338b5",
   "metadata": {},
   "outputs": [
    {
     "data": {
      "text/plain": [
       "12000"
      ]
     },
     "execution_count": 15,
     "metadata": {},
     "output_type": "execute_result"
    }
   ],
   "source": [
    "len(train_dl)"
   ]
  },
  {
   "cell_type": "markdown",
   "id": "394b5ec1-9cb4-48c9-a7a3-bd7eeec8522d",
   "metadata": {},
   "source": [
    "# Cross Entropy Loss"
   ]
  },
  {
   "cell_type": "code",
   "execution_count": 26,
   "id": "f0927548-c6ff-40ce-ae62-90dfe6fc5a6b",
   "metadata": {},
   "outputs": [],
   "source": [
    "L = nn.CrossEntropyLoss()"
   ]
  },
  {
   "cell_type": "markdown",
   "id": "06fd6fe4-8ade-4abb-b891-c489098dd169",
   "metadata": {},
   "source": [
    "# The Network"
   ]
  },
  {
   "cell_type": "code",
   "execution_count": 55,
   "id": "adb0a442-3930-44ad-8ced-cfec73e9515e",
   "metadata": {},
   "outputs": [],
   "source": [
    "class MyNeuralNet(nn.Module):\n",
    "    def __init__(self):\n",
    "        super().__init__()\n",
    "        self.Matrix1 = nn.Linear(28**2,100)\n",
    "        self.Matrix2 = nn.Linear(100,50)\n",
    "        self.Matrix3 = nn.Linear(50,10)\n",
    "        self.R = nn.ReLU()\n",
    "    def forward(self,x):\n",
    "        x = x.view(-1,28**2)\n",
    "        x = self.R(self.Matrix1(x))\n",
    "        x = self.R(self.Matrix2(x))\n",
    "        x = self.Matrix3(x)\n",
    "        return x.squeeze()"
   ]
  },
  {
   "cell_type": "code",
   "execution_count": 56,
   "id": "aaa8781b-8c61-4e86-95d9-d2621773636b",
   "metadata": {},
   "outputs": [],
   "source": [
    "f = MyNeuralNet()"
   ]
  },
  {
   "cell_type": "code",
   "execution_count": 57,
   "id": "454ee216",
   "metadata": {},
   "outputs": [
    {
     "data": {
      "text/plain": [
       "MyNeuralNet(\n",
       "  (Matrix1): Linear(in_features=784, out_features=100, bias=True)\n",
       "  (Matrix2): Linear(in_features=100, out_features=50, bias=True)\n",
       "  (Matrix3): Linear(in_features=50, out_features=10, bias=True)\n",
       "  (R): ReLU()\n",
       ")"
      ]
     },
     "execution_count": 57,
     "metadata": {},
     "output_type": "execute_result"
    }
   ],
   "source": [
    "f"
   ]
  },
  {
   "cell_type": "markdown",
   "id": "c47ba1c8-b5b8-4260-8c77-d7a631a8ac3b",
   "metadata": {},
   "source": [
    "# Training"
   ]
  },
  {
   "cell_type": "code",
   "execution_count": 58,
   "id": "d7ade31e-fc82-43b6-8b6a-19672a1ae868",
   "metadata": {},
   "outputs": [],
   "source": [
    "def train_model(dl, f, n_epochs=20):\n",
    "    # Optimization\n",
    "    opt = SGD(f.parameters(), lr=0.01)\n",
    "    L = nn.CrossEntropyLoss()\n",
    "\n",
    "    # Train model\n",
    "    losses = []\n",
    "    epochs = []\n",
    "    for epoch in range(n_epochs):\n",
    "        print(f'Epoch {epoch}')\n",
    "        N = len(dl)\n",
    "        for i, (x, y) in enumerate(dl):\n",
    "            # Update the weights of the network\n",
    "            opt.zero_grad() \n",
    "            loss_value = L(f(x), y) \n",
    "            loss_value.backward() \n",
    "            opt.step() \n",
    "            # Store training data\n",
    "            epochs.append(epoch+i/N)\n",
    "            losses.append(loss_value.item())\n",
    "    return np.array(epochs), np.array(losses)"
   ]
  },
  {
   "cell_type": "code",
   "execution_count": 59,
   "id": "24f7826c-ac83-4133-8208-af6130c940e7",
   "metadata": {},
   "outputs": [
    {
     "name": "stdout",
     "output_type": "stream",
     "text": [
      "Epoch 0\n",
      "Epoch 1\n",
      "Epoch 2\n",
      "Epoch 3\n",
      "Epoch 4\n",
      "Epoch 5\n",
      "Epoch 6\n",
      "Epoch 7\n",
      "Epoch 8\n",
      "Epoch 9\n",
      "Epoch 10\n",
      "Epoch 11\n",
      "Epoch 12\n",
      "Epoch 13\n",
      "Epoch 14\n",
      "Epoch 15\n",
      "Epoch 16\n",
      "Epoch 17\n",
      "Epoch 18\n",
      "Epoch 19\n"
     ]
    }
   ],
   "source": [
    "epoch_data, loss_data = train_model(train_dl, f)"
   ]
  },
  {
   "cell_type": "code",
   "execution_count": 62,
   "id": "4298b4c3-92fc-4428-9d15-fa99b4d241b5",
   "metadata": {},
   "outputs": [],
   "source": [
    "epoch_data_avgd = epoch_data.reshape(20,-1).mean(axis=1)\n",
    "loss_data_avgd = loss_data.reshape(20,-1).mean(axis=1)"
   ]
  },
  {
   "cell_type": "code",
   "execution_count": 63,
   "id": "e031368f-65db-43c8-84b2-9e9a09055c74",
   "metadata": {},
   "outputs": [
    {
     "data": {
      "text/plain": [
       "Text(0.5,1,'Cross Entropy (avgd per epoch)')"
      ]
     },
     "execution_count": 63,
     "metadata": {},
     "output_type": "execute_result"
    },
    {
     "data": {
      "image/png": "[encoded data removed]",
      "text/plain": [
       "<matplotlib.figure.Figure at 0x7f48f035c0>"
      ]
     },
     "metadata": {
      "needs_background": "light"
     },
     "output_type": "display_data"
    }
   ],
   "source": [
    "plt.plot(epoch_data_avgd, loss_data_avgd, 'o--')\n",
    "plt.xlabel('Epoch Number')\n",
    "plt.ylabel('Cross Entropy')\n",
    "plt.title('Cross Entropy (avgd per epoch)')"
   ]
  },
  {
   "cell_type": "code",
   "execution_count": 44,
   "id": "884e81c2",
   "metadata": {},
   "outputs": [],
   "source": [
    "torch.save(f.state_dict(), '/home/wes-237b/MNIST/Pytorch_MNIST_Model.pt')"
   ]
  },
  {
   "cell_type": "markdown",
   "id": "88571760",
   "metadata": {},
   "source": [
    "# Testing"
   ]
  },
  {
   "cell_type": "code",
   "execution_count": 64,
   "id": "f35a5388-9b95-4def-a8e2-c66c4c0befe1",
   "metadata": {},
   "outputs": [],
   "source": [
    "xs, ys = train_ds[0:2000]\n",
    "yhats = f(xs).argmax(axis=1)"
   ]
  },
  {
   "cell_type": "code",
   "execution_count": 65,
   "id": "277a2229-26ae-4463-bf2c-5b26908c0f1e",
   "metadata": {},
   "outputs": [
    {
     "data": {
      "image/png": "[encoded data removed]",
      "text/plain": [
       "<matplotlib.figure.Figure at 0x7f48f03208>"
      ]
     },
     "metadata": {
      "needs_background": "light"
     },
     "output_type": "display_data"
    }
   ],
   "source": [
    "fig, ax = plt.subplots(10,4,figsize=(10,15))\n",
    "for i in range(40):\n",
    "    plt.subplot(10,4,i+1)\n",
    "    plt.imshow(xs[i])\n",
    "    plt.title(f'Predicted Digit: {yhats[i]}')\n",
    "fig.tight_layout()\n",
    "plt.show()"
   ]
  },
  {
   "cell_type": "markdown",
   "id": "254db600",
   "metadata": {},
   "source": [
    "# Handwritten digit detection"
   ]
  },
  {
   "cell_type": "code",
   "execution_count": 66,
   "id": "e02f20b0",
   "metadata": {},
   "outputs": [],
   "source": [
    "import cv2\n",
    "import os\n",
    "IMG_DIR = \"/home/wes-237b/MNIST/data/h_test\""
   ]
  },
  {
   "cell_type": "code",
   "execution_count": 67,
   "id": "0d94a1a1",
   "metadata": {},
   "outputs": [],
   "source": [
    "\n",
    "def get_tensor_from_test_img(img):\n",
    "    img_arr = cv2.imread(img, cv2.IMREAD_GRAYSCALE)\n",
    "    img_arr = ~img_arr\n",
    "    \n",
    "    resized_img = cv2.resize(img_arr, (28, 28))\n",
    "    resized_img = resized_img.astype(np.float32)\n",
    "    resized_img_tensor = torch.from_numpy(resized_img)\n",
    "    return resized_img_tensor\n",
    "\n",
    "def get_tensor_from_test_dir(IMG_DIR):\n",
    "    img_tensor_list = []\n",
    "    for img in os.listdir(IMG_DIR):\n",
    "        img_tensor_list.append(get_tensor_from_test_img(os.path.join(IMG_DIR, img)))\n",
    "    return img_tensor_list\n"
   ]
  },
  {
   "cell_type": "code",
   "execution_count": 68,
   "id": "6f5086b9",
   "metadata": {},
   "outputs": [],
   "source": [
    "img_tensors = get_tensor_from_test_dir(IMG_DIR)"
   ]
  },
  {
   "cell_type": "code",
   "execution_count": 69,
   "id": "36f10b7a",
   "metadata": {},
   "outputs": [
    {
     "data": {
      "text/plain": [
       "<matplotlib.image.AxesImage at 0x7f78690ef0>"
      ]
     },
     "execution_count": 69,
     "metadata": {},
     "output_type": "execute_result"
    },
    {
     "data": {
      "image/png": "[encoded data removed]",
      "text/plain": [
       "<matplotlib.figure.Figure at 0x7f48f8d048>"
      ]
     },
     "metadata": {
      "needs_background": "light"
     },
     "output_type": "display_data"
    }
   ],
   "source": [
    "plt.imshow(img_tensors[0])"
   ]
  },
  {
   "cell_type": "code",
   "execution_count": 70,
   "id": "b90df902",
   "metadata": {},
   "outputs": [
    {
     "name": "stdout",
     "output_type": "stream",
     "text": [
      "tensor(5)\n"
     ]
    }
   ],
   "source": [
    "print(torch.argmax(f(img_tensors[0])))"
   ]
  },
  {
   "cell_type": "code",
   "execution_count": 71,
   "id": "812e2657",
   "metadata": {
    "scrolled": true
   },
   "outputs": [
    {
     "data": {
      "image/png": "[encoded data removed]",
      "text/plain": [
       "<matplotlib.figure.Figure at 0x7f489c8d30>"
      ]
     },
     "metadata": {
      "needs_background": "light"
     },
     "output_type": "display_data"
    }
   ],
   "source": [
    "   \n",
    "fig, ax = plt.subplots(10,5,figsize=(10,5))\n",
    "for i in range(len(img_tensors)):\n",
    "    plt.subplot(2,5,i+1)\n",
    "    plt.imshow(img_tensors[i])\n",
    "    plt.title(f'Predicted Digit: {torch.argmax(f(img_tensors[i]))}')\n",
    "fig.tight_layout()\n",
    "plt.show()"
   ]
  },
  {
   "cell_type": "code",
   "execution_count": null,
   "id": "1f15ee3a",
   "metadata": {},
   "outputs": [],
   "source": []
  },
  {
   "cell_type": "code",
   "execution_count": null,
   "id": "aa36dedd",
   "metadata": {},
   "outputs": [],
   "source": []
  },
  {
   "cell_type": "code",
   "execution_count": null,
   "id": "b53032f7",
   "metadata": {},
   "outputs": [],
   "source": []
  }
 ],
 "metadata": {
  "kernelspec": {
   "display_name": "Python 3",
   "language": "python",
   "name": "python3"
  },
  "language_info": {
   "codemirror_mode": {
    "name": "ipython",
    "version": 3
   },
   "file_extension": ".py",
   "mimetype": "text/x-python",
   "name": "python",
   "nbconvert_exporter": "python",
   "pygments_lexer": "ipython3",
   "version": "3.6.9"
  }
 },
 "nbformat": 4,
 "nbformat_minor": 5
}
