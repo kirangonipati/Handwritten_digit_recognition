{
 "cells": [
  {
   "cell_type": "markdown",
   "id": "fef18f57",
   "metadata": {},
   "source": [
    "# Handwritten  digit recognition in Tensorflow"
   ]
  },
  {
   "attachments": {},
   "cell_type": "markdown",
   "id": "be7e865b",
   "metadata": {},
   "source": [
    "TensorFlow is an interface for expressing machine learning algorithms, and implementations, was developed by the Google Brain team for internal Google use in research and production. It can be used across a range of tasks but has a particular focus on training and inference of deep neural networks.\n",
    "\n",
    "Tenssorflow Keras module has MNIST(Modified National Institute of Standards and Technology) database of handwritten digits embedded which we have taken in this project for training a model and later on written digits with our own hands and tried to predict the digits with the model. The model is aalmost successfully able to predict our handwritten digits. "
   ]
  },
  {
   "cell_type": "markdown",
   "id": "3962d104",
   "metadata": {},
   "source": [
    "## Import the libraries"
   ]
  },
  {
   "cell_type": "code",
   "execution_count": 2,
   "id": "b6e59288",
   "metadata": {},
   "outputs": [],
   "source": [
    "import numpy as np # linear algebra\n",
    "import matplotlib.pyplot as plt\n",
    "import tensorflow as tf\n",
    "import cv2"
   ]
  },
  {
   "cell_type": "markdown",
   "id": "393ba6cc",
   "metadata": {},
   "source": [
    "Load the MNIST dataset from the Keras module"
   ]
  },
  {
   "cell_type": "code",
   "execution_count": 3,
   "id": "a8b32b40",
   "metadata": {},
   "outputs": [],
   "source": [
    "mnist = tf.keras.datasets.mnist"
   ]
  },
  {
   "cell_type": "code",
   "execution_count": 4,
   "id": "a33dc1d9",
   "metadata": {},
   "outputs": [
    {
     "name": "stdout",
     "output_type": "stream",
     "text": [
      "image_train.shape: 28\n"
     ]
    }
   ],
   "source": [
    "(image_train, label_train), (image_test, label_test) = mnist.load_data()\n",
    "image_train, image_test = image_train / 255.0, image_test / 255.0\n",
    "print(\"image_train.shape:\", image_train.shape[1])"
   ]
  },
  {
   "cell_type": "code",
   "execution_count": 5,
   "id": "05f391a3",
   "metadata": {},
   "outputs": [
    {
     "name": "stdout",
     "output_type": "stream",
     "text": [
      "The installed version of TensorFlow includes GPU support.\n"
     ]
    }
   ],
   "source": [
    "    if tf.test.is_built_with_cuda():\n",
    "      print(\"The installed version of TensorFlow includes GPU support.\")"
   ]
  },
  {
   "cell_type": "code",
   "execution_count": 11,
   "id": "715ab537",
   "metadata": {},
   "outputs": [
    {
     "name": "stdout",
     "output_type": "stream",
     "text": [
      "predictions: \n",
      " [[-0.04813766 -0.5368642  -0.81464607 -0.33518317  0.73481137  0.45232955\n",
      "  -0.6416454  -0.29177195  0.53294694 -0.1831176 ]]\n",
      "loss: \n",
      " 1.866387\n",
      "Epoch 1/5\n",
      "1875/1875 [==============================] - 13s 7ms/step - loss: 0.2941 - accuracy: 0.9143\n",
      "Epoch 2/5\n",
      "1875/1875 [==============================] - 13s 7ms/step - loss: 0.1428 - accuracy: 0.9574\n",
      "Epoch 3/5\n",
      "1875/1875 [==============================] - 13s 7ms/step - loss: 0.1061 - accuracy: 0.9681\n",
      "Epoch 4/5\n",
      "1875/1875 [==============================] - 13s 7ms/step - loss: 0.0876 - accuracy: 0.9726\n",
      "Epoch 5/5\n",
      "1875/1875 [==============================] - 13s 7ms/step - loss: 0.0734 - accuracy: 0.9769\n",
      "evaluation: \n",
      "\n",
      "313/313 - 1s - loss: 0.0780 - accuracy: 0.9761\n",
      "probabilities: \n",
      " tf.Tensor(\n",
      "[[1.9045097e-09 4.8987694e-09 1.1179499e-05 1.1036873e-04 5.9056683e-11\n",
      "  1.6427502e-07 8.9739346e-14 9.9987721e-01 2.9940736e-08 9.9437500e-07]\n",
      " [3.4266971e-09 4.2462627e-05 9.9995589e-01 1.4353006e-06 4.7591942e-17\n",
      "  2.8949651e-07 1.8922177e-09 2.3251988e-14 1.2813067e-08 7.7179491e-18]\n",
      " [1.2876674e-07 9.9918562e-01 2.0959321e-04 3.9885167e-06 2.8318140e-05\n",
      "  1.2335728e-06 2.5942853e-05 3.9646617e-04 1.4855144e-04 1.9879617e-07]\n",
      " [9.9975294e-01 2.9869938e-08 2.1729789e-04 2.2192797e-08 1.5486349e-06\n",
      "  1.4364670e-05 1.0261915e-05 2.8645159e-06 4.1351903e-08 7.3215148e-07]\n",
      " [1.5674294e-06 1.8768037e-11 3.7899160e-06 2.7723335e-08 9.9667728e-01\n",
      "  2.1003950e-06 4.5839250e-05 4.5423792e-05 1.3261055e-06 3.2226334e-03]], shape=(5, 10), dtype=float32)\n"
     ]
    }
   ],
   "source": [
    "#tf.debugging.set_log_device_placement(True)\n",
    "\n",
    "#gpus = tf.config.list_logical_devices('GPU')\n",
    "#strategy = tf.distribute.MirroredStrategy(gpus)\n",
    "with tf.device('/device:GPU:0'):\n",
    "\n",
    "    model = tf.keras.models.Sequential([\n",
    "      tf.keras.layers.Flatten(input_shape=(28, 28)),\n",
    "      tf.keras.layers.Dense(128, activation='relu'),\n",
    "      tf.keras.layers.Dropout(0.2),\n",
    "      tf.keras.layers.Dense(10)\n",
    "    ])\n",
    "\n",
    "    tf.debugging.set_log_device_placement(True)\n",
    "\n",
    "\n",
    "    predictions = model(image_train[:1]).numpy()\n",
    "\n",
    "    print(\"predictions: \\n\", predictions)\n",
    "\n",
    "    loss_fn = tf.keras.losses.SparseCategoricalCrossentropy(from_logits=True)\n",
    "\n",
    "    print(\"loss: \\n\", loss_fn(label_train[:1], predictions).numpy())\n",
    "\n",
    "\n",
    "    model.compile(optimizer='adam',\n",
    "                  loss=loss_fn,\n",
    "                  metrics=['accuracy'])\n",
    "\n",
    "    model.fit(image_train, label_train, epochs=5)\n",
    "\n",
    "    print(\"evaluation: \\n\")\n",
    "\n",
    "    model.evaluate(image_test,  label_test, verbose=2)\n",
    "\n",
    "    probability_model = tf.keras.Sequential([\n",
    "      model,\n",
    "      tf.keras.layers.Softmax()\n",
    "    ])\n",
    "\n",
    "    print(\"probabilities: \\n\", probability_model(image_test[:5]))"
   ]
  },
  {
   "cell_type": "markdown",
   "id": "bd57b066",
   "metadata": {},
   "source": [
    "## Summary of the model"
   ]
  },
  {
   "cell_type": "code",
   "execution_count": 8,
   "id": "e8b6d31d",
   "metadata": {},
   "outputs": [
    {
     "name": "stdout",
     "output_type": "stream",
     "text": [
      "Model: \"sequential\"\n",
      "_________________________________________________________________\n",
      "Layer (type)                 Output Shape              Param #   \n",
      "=================================================================\n",
      "flatten (Flatten)            (None, 784)               0         \n",
      "_________________________________________________________________\n",
      "dense (Dense)                (None, 128)               100480    \n",
      "_________________________________________________________________\n",
      "dropout (Dropout)            (None, 128)               0         \n",
      "_________________________________________________________________\n",
      "dense_1 (Dense)              (None, 10)                1290      \n",
      "=================================================================\n",
      "Total params: 101,770\n",
      "Trainable params: 101,770\n",
      "Non-trainable params: 0\n",
      "_________________________________________________________________\n"
     ]
    }
   ],
   "source": [
    "model.summary()"
   ]
  },
  {
   "cell_type": "markdown",
   "id": "18c463d7",
   "metadata": {},
   "source": [
    "## Predict the test data\n",
    "Predict the test data from the MNIST database and model is working fine with those input data"
   ]
  },
  {
   "cell_type": "code",
   "execution_count": 7,
   "id": "47092496",
   "metadata": {
    "scrolled": false
   },
   "outputs": [
    {
     "name": "stdout",
     "output_type": "stream",
     "text": [
      "[7 2 1 ... 4 5 6]\n",
      "(10000,)\n"
     ]
    },
    {
     "data": {
      "image/png": "[encoded data removed]",
      "text/plain": [
       "<Figure size 144x144 with 1 Axes>"
      ]
     },
     "metadata": {
      "needs_background": "light"
     },
     "output_type": "display_data"
    },
    {
     "data": {
      "image/png": "[encoded data removed]",
      "text/plain": [
       "<Figure size 144x144 with 1 Axes>"
      ]
     },
     "metadata": {
      "needs_background": "light"
     },
     "output_type": "display_data"
    },
    {
     "data": {
      "image/png": "[encoded data removed]",
      "text/plain": [
       "<Figure size 144x144 with 1 Axes>"
      ]
     },
     "metadata": {
      "needs_background": "light"
     },
     "output_type": "display_data"
    },
    {
     "data": {
      "image/png": "[encoded data removed]",
      "text/plain": [
       "<Figure size 144x144 with 1 Axes>"
      ]
     },
     "metadata": {
      "needs_background": "light"
     },
     "output_type": "display_data"
    },
    {
     "data": {
      "image/png": "[encoded data removed]",
      "text/plain": [
       "<Figure size 144x144 with 1 Axes>"
      ]
     },
     "metadata": {
      "needs_background": "light"
     },
     "output_type": "display_data"
    },
    {
     "data": {
      "image/png": "[encoded data removed]",
      "text/plain": [
       "<Figure size 144x144 with 1 Axes>"
      ]
     },
     "metadata": {
      "needs_background": "light"
     },
     "output_type": "display_data"
    },
    {
     "data": {
      "image/png": "[encoded data removed]",
      "text/plain": [
       "<Figure size 144x144 with 1 Axes>"
      ]
     },
     "metadata": {
      "needs_background": "light"
     },
     "output_type": "display_data"
    },
    {
     "data": {
      "image/png": "[encoded data removed]",
      "text/plain": [
       "<Figure size 144x144 with 1 Axes>"
      ]
     },
     "metadata": {
      "needs_background": "light"
     },
     "output_type": "display_data"
    },
    {
     "data": {
      "image/png": "[encoded data removed]",
      "text/plain": [
       "<Figure size 144x144 with 1 Axes>"
      ]
     },
     "metadata": {
      "needs_background": "light"
     },
     "output_type": "display_data"
    },
    {
     "data": {
      "image/png": "[encoded data removed]",
      "text/plain": [
       "<Figure size 144x144 with 1 Axes>"
      ]
     },
     "metadata": {
      "needs_background": "light"
     },
     "output_type": "display_data"
    }
   ],
   "source": [
    "#hashmap\n",
    "classes = {i:chr(i+48) for i in range(10)}\n",
    "classes\n",
    "\n",
    "# get an image and its actual label/class\n",
    "# the batch size in data_test is 1, each batch contains 1 sample \n",
    "\n",
    "# predict label\n",
    "test_label_pred = np.argmax(probability_model.predict(image_test), axis = 1)\n",
    "\n",
    "print(test_label_pred)\n",
    "print(test_label_pred.shape)\n",
    "\n",
    "for i in range(10):\n",
    "    plt.figure(figsize=(2, 2))\n",
    "    plt.imshow(image_test[i], cmap='binary')\n",
    "    plt.title(f'actual:{classes[label_test[i]]}, predicted:{classes[test_label_pred[i]]}')"
   ]
  },
  {
   "cell_type": "code",
   "execution_count": 15,
   "id": "fe057908",
   "metadata": {},
   "outputs": [
    {
     "name": "stdout",
     "output_type": "stream",
     "text": [
      "ERROR: ld.so: object '/' from LD_PRELOAD cannot be preloaded (cannot read file data): ignored.\n",
      "ERROR: ld.so: object '/' from LD_PRELOAD cannot be preloaded (cannot read file data): ignored.\n",
      "INFO:tensorflow:Assets written to: saved_model/my_model/assets\n"
     ]
    }
   ],
   "source": [
    "!mkdir -p saved_model\n",
    "model.save('saved_model/my_model')"
   ]
  },
  {
   "cell_type": "markdown",
   "id": "e285f1ab",
   "metadata": {},
   "source": [
    "## Predict the handwritten digits\n",
    "The following images were written with our hands and given as input to the model and the model is able to predict the digits almost correctly"
   ]
  },
  {
   "cell_type": "code",
   "execution_count": 13,
   "id": "da1dc2f1",
   "metadata": {
    "scrolled": true
   },
   "outputs": [
    {
     "data": {
      "image/png": "[encoded data removed]",
      "text/plain": [
       "<Figure size 432x288 with 10 Axes>"
      ]
     },
     "metadata": {
      "needs_background": "light"
     },
     "output_type": "display_data"
    }
   ],
   "source": [
    "for i in range(10):\n",
    "    filename = './data/'+str(i)+'.jpg'\n",
    "\n",
    "    img = cv2.imread(filename)\n",
    "\n",
    "    img = cv2. cvtColor(img, cv2.COLOR_BGR2GRAY)\n",
    "\n",
    "    img=cv2.resize(img, (28,28)) # resize to 28,28 as that is on which model is trained on\n",
    "\n",
    "    img = np.expand_dims(img, 2)\n",
    "\n",
    "    img = ~img\n",
    "\n",
    "    im = plt.subplot(2,5,i+1)\n",
    "    \n",
    "    plt.imshow(img,cmap='binary')\n",
    "    \n",
    "    img = tf.expand_dims(img, 0) # expand the dims means change shape from (180, 180, 3) to (1, 180, 180, 3)\n",
    "\n",
    "    prediction = np.argmax(probability_model.predict(img), axis = 1)\n",
    "\n",
    "    plt.title(prediction)"
   ]
  },
  {
   "cell_type": "code",
   "execution_count": null,
   "id": "52fa990a",
   "metadata": {},
   "outputs": [],
   "source": []
  },
  {
   "cell_type": "code",
   "execution_count": null,
   "id": "2cb74fc8",
   "metadata": {},
   "outputs": [],
   "source": []
  }
 ],
 "metadata": {
  "kernelspec": {
   "display_name": "Python 3",
   "language": "python",
   "name": "python3"
  },
  "language_info": {
   "codemirror_mode": {
    "name": "ipython",
    "version": 3
   },
   "file_extension": ".py",
   "mimetype": "text/x-python",
   "name": "python",
   "nbconvert_exporter": "python",
   "pygments_lexer": "ipython3",
   "version": "3.6.9"
  }
 },
 "nbformat": 4,
 "nbformat_minor": 5
}
